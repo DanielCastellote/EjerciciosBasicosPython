{
 "cells": [
  {
   "cell_type": "markdown",
   "metadata": {},
   "source": [
    "# Ejercicios Practica Python Daniel Castellote"
   ]
  },
  {
   "cell_type": "markdown",
   "metadata": {},
   "source": [
    "## 1º Primeros programas:</br>\n",
    "### Ejercicio 1:"
   ]
  },
  {
   "cell_type": "code",
   "execution_count": 1,
   "metadata": {},
   "outputs": [
    {
     "name": "stdout",
     "output_type": "stream",
     "text": [
      "¿Cual es tu nombre?\n",
      "Hola w Bienvenido al curso de SGE 21/22\n"
     ]
    }
   ],
   "source": [
    "print(\"¿Cual es tu nombre?\")\n",
    "nombre=input()\n",
    "print(\"Hola \"+nombre+\" Bienvenido al curso de SGE 21/22\")"
   ]
  },
  {
   "cell_type": "markdown",
   "metadata": {},
   "source": [
    "### Ejercicio 2: Ejercicio de talla del zapato y edad</br>\n",
    "Realiza de cabeza las siguientes operaciones:</br>\n",
    "-Pensar, escribir o apuntar su talla de zapato.</br>\n",
    "-Multiplicar ese número por 5.</br>\n",
    "-Sumarle 50.</br>\n",
    "-Multiplicarlo por 20.</br>\n",
    "-Sumarle 1021.</br>\n",
    "-Restarle el año de nacimiento.\n"
   ]
  },
  {
   "cell_type": "code",
   "execution_count": 2,
   "metadata": {},
   "outputs": [
    {
     "name": "stdout",
     "output_type": "stream",
     "text": [
      "¿Cual fue tu resultado matematico?\n",
      "La talla de tu zapato es: 3\n",
      "Tu edad actual es: \n"
     ]
    }
   ],
   "source": [
    "print(\"¿Cual fue tu resultado matematico?\")\n",
    "resultado=input()\n",
    "talla=resultado[0:2]\n",
    "edad=resultado[2:4]\n",
    "print(\"La talla de tu zapato es: \"+talla)\n",
    "print(\"Tu edad actual es: \"+edad)\n"
   ]
  },
  {
   "cell_type": "markdown",
   "metadata": {},
   "source": [
    "## 2º Control de flujo:</br>\n",
    "### Ejercicio 1:</br>\n",
    "Ejercicio triangulos"
   ]
  },
  {
   "cell_type": "code",
   "execution_count": 3,
   "metadata": {},
   "outputs": [
    {
     "name": "stdout",
     "output_type": "stream",
     "text": [
      "TRIANGULO RECTANGULO:\n",
      "Indica un numero para la altura del triangulo rectangulo: \n",
      "*\n",
      "***\n",
      "*****\n",
      "TRIANGULO ISOSCELES:\n",
      "Indica un numero para la altura del triangulo isosceles: \n"
     ]
    }
   ],
   "source": [
    "print(\"TRIANGULO RECTANGULO:\")\n",
    "asterisco=\"*\"\n",
    "x=1\n",
    "print(\"Indica un numero para la altura del triangulo rectangulo: \")\n",
    "altura1=int(input()) \n",
    "\n",
    "for i in range(0,altura1):\n",
    "    print(asterisco*x)\n",
    "    x+=2\n",
    "\n",
    "print(\"TRIANGULO ISOSCELES:\")\n",
    "\n",
    "print(\"Indica un numero para la altura del triangulo isosceles: \")\n",
    "altura2= int(input())\n",
    "\n"
   ]
  },
  {
   "cell_type": "markdown",
   "metadata": {},
   "source": [
    "### Ejercicio 2: </br>\n",
    "Adivinar numero "
   ]
  },
  {
   "cell_type": "code",
   "execution_count": 4,
   "metadata": {},
   "outputs": [
    {
     "name": "stdout",
     "output_type": "stream",
     "text": [
      "Piense un numero del 1 al 100\n",
      "Conteste con 1 si respondes si y conteste con 0 si responde con no\n",
      "¿Tu numero es mayor que: 62?\n"
     ]
    },
    {
     "ename": "ValueError",
     "evalue": "invalid literal for int() with base 10: ''",
     "output_type": "error",
     "traceback": [
      "\u001b[1;31m---------------------------------------------------------------------------\u001b[0m",
      "\u001b[1;31mValueError\u001b[0m                                Traceback (most recent call last)",
      "Input \u001b[1;32mIn [4]\u001b[0m, in \u001b[0;36m<module>\u001b[1;34m\u001b[0m\n\u001b[0;32m      6\u001b[0m \u001b[38;5;28mprint\u001b[39m(\u001b[38;5;124m\"\u001b[39m\u001b[38;5;124mConteste con 1 si respondes si y conteste con 0 si responde con no\u001b[39m\u001b[38;5;124m\"\u001b[39m)\n\u001b[0;32m      7\u001b[0m \u001b[38;5;28mprint\u001b[39m(\u001b[38;5;124m\"\u001b[39m\u001b[38;5;124m¿Tu numero es mayor que: \u001b[39m\u001b[38;5;124m\"\u001b[39m\u001b[38;5;241m+\u001b[39m\u001b[38;5;28mstr\u001b[39m(n_inicial)\u001b[38;5;241m+\u001b[39m\u001b[38;5;124m\"\u001b[39m\u001b[38;5;124m?\u001b[39m\u001b[38;5;124m\"\u001b[39m)\n\u001b[1;32m----> 8\u001b[0m respuesta\u001b[38;5;241m=\u001b[39m \u001b[38;5;28;43mint\u001b[39;49m\u001b[43m(\u001b[49m\u001b[38;5;28;43minput\u001b[39;49m\u001b[43m(\u001b[49m\u001b[43m)\u001b[49m\u001b[43m)\u001b[49m\n\u001b[0;32m      9\u001b[0m \u001b[38;5;28;01mif\u001b[39;00m respuesta \u001b[38;5;241m==\u001b[39m \u001b[38;5;241m1\u001b[39m :\n\u001b[0;32m     10\u001b[0m     \u001b[38;5;28mprint\u001b[39m(\u001b[38;5;124m\"\u001b[39m\u001b[38;5;124mTu numero esta entre \u001b[39m\u001b[38;5;124m\"\u001b[39m\u001b[38;5;241m+\u001b[39m \u001b[38;5;28mstr\u001b[39m(\u001b[38;5;28mrange\u001b[39m(n_inicial,\u001b[38;5;241m100\u001b[39m)))\n",
      "\u001b[1;31mValueError\u001b[0m: invalid literal for int() with base 10: ''"
     ]
    }
   ],
   "source": [
    "import random\n",
    "print(\"Piense un numero del 1 al 100\")\n",
    "lista_numeros= list(range(100))\n",
    "\n",
    "n_inicial= random.randint(1,100)\n",
    "print(\"Conteste con 1 si respondes si y conteste con 0 si responde con no\")\n",
    "print(\"¿Tu numero es mayor que: \"+str(n_inicial)+\"?\")\n",
    "respuesta= int(input())\n",
    "if respuesta == 1 :\n",
    "    print(\"Tu numero esta entre \"+ str(range(n_inicial,100)))\n",
    "    print(\"¿Tu numero es menor que 75?\")\n",
    "    respuesta1=int(input())\n",
    "    if respuesta1 == 1:\n",
    "        print(\"Tu numero esta entre \"+ str(range(n_inicial,75)))\n",
    "    if respuesta1 == 0:\n",
    "        print(\"Tu numero esta entre \"+str(range(n_inicial,100)))\n",
    "    else :\n",
    "        print(\"Contesta bien\")\n",
    "if respuesta == 0 :\n",
    "    print(\"Tu numero es menor de: \" + str(range(0,n_inicial)))\n",
    "else :\n",
    "    print(\"Contesta bien con las opciones indicadas\")\n",
    "    "
   ]
  },
  {
   "cell_type": "markdown",
   "metadata": {},
   "source": [
    "### Ejercicio 3 </br>\n",
    "Imprimir multiplos de 7"
   ]
  },
  {
   "cell_type": "code",
   "execution_count": 9,
   "metadata": {},
   "outputs": [
    {
     "name": "stdout",
     "output_type": "stream",
     "text": [
      "7\n",
      "14\n",
      "21\n",
      "28\n",
      "35\n",
      "42\n",
      "49\n",
      "56\n",
      "63\n",
      "70\n",
      "77\n",
      "84\n",
      "91\n",
      "98\n"
     ]
    }
   ],
   "source": [
    "x=1\n",
    "for x in range(7,100,7):\n",
    "        print(x)"
   ]
  },
  {
   "cell_type": "markdown",
   "metadata": {},
   "source": [
    "## 3º Trabajo con cadenas de caracteres\n",
    "### Ejercicio 1\n",
    "Solicitar una oración por teclado y realizar las siguientes operaciones sobre ella:"
   ]
  },
  {
   "cell_type": "code",
   "execution_count": 29,
   "metadata": {},
   "outputs": [
    {
     "name": "stdout",
     "output_type": "stream",
     "text": [
      "Introduce una frase y operaremos sobre ella:\n",
      "La longitud de tu frase es:  15\n",
      "Ingresaste 2 espacios en blanco\n",
      "Tu frase en mayusculas es: HOLA MUY BUENAS\n",
      "Duplicaremos la cadena que has mandado: hola muy buenashola muy buenas\n",
      "Dividiremos y numeraremos por palabras la oracion que has mandado:\n",
      "Palabra 1 : hola\n",
      "Palabra 2 : muy\n",
      "Palabra 3 : buenas\n"
     ]
    }
   ],
   "source": [
    "print(\"Introduce una frase y operaremos sobre ella:\")\n",
    "oracion=str(input())\n",
    "\n",
    "print(\"La longitud de tu frase es: \", len(oracion))\n",
    "print(\"Ingresaste\",oracion.count(\" \") ,\"espacios en blanco\")\n",
    "print(\"Tu frase en mayusculas es:\", oracion.upper())\n",
    "print(\"Duplicaremos la cadena que has mandado:\", oracion*2)\n",
    "print(\"Dividiremos y numeraremos por palabras la oracion que has mandado:\")\n",
    "contador=1\n",
    "for i in oracion.split(\" \"):\n",
    "    print(\"Palabra\",contador,\":\",i)\n",
    "    contador+=1"
   ]
  },
  {
   "cell_type": "markdown",
   "metadata": {},
   "source": [
    "## 4º Colecciones\n",
    "### Ejercicio 1\n",
    "Definir una lista por asignación con 5 enteros. Mostrar por pantalla solo los elementos con valor iguales o superiores a 7."
   ]
  },
  {
   "cell_type": "code",
   "execution_count": 39,
   "metadata": {},
   "outputs": [
    {
     "name": "stdout",
     "output_type": "stream",
     "text": [
      "Dime 5 numeros para la lista:\n",
      "Tu lista es: [7, 8, 5, 4, 9]\n",
      "Solo te imprimiremos los numeros mayores o iguales que 7:\n",
      "7\n",
      "8\n",
      "9\n"
     ]
    }
   ],
   "source": [
    "print(\"Dime 5 numeros para la lista:\")\n",
    "\n",
    "lista_cinco=[]\n",
    "for i in range(0,5):\n",
    "    numero=int(input())\n",
    "    lista_cinco.append(numero)\n",
    "\n",
    "print(\"Tu lista es:\",lista_cinco)\n",
    "\n",
    "print(\"Solo te imprimiremos los numeros mayores o iguales que 7:\")\n",
    "for x in lista_cinco:\n",
    "    if(x>=7):\n",
    "        print(x)\n"
   ]
  },
  {
   "cell_type": "markdown",
   "metadata": {},
   "source": [
    "### Ejericio 2\n",
    "Crear un programa que almacene nombres de personas"
   ]
  },
  {
   "cell_type": "code",
   "execution_count": 46,
   "metadata": {},
   "outputs": [
    {
     "name": "stdout",
     "output_type": "stream",
     "text": [
      "Hola te preguntaremos nombres hasta que usted quiera y luego operaremos con los nombres que hayas introducido\n",
      "Cuando no quieras escribir mas nombres ponga-> 0\n"
     ]
    }
   ],
   "source": [
    "print(\"Hola te preguntaremos nombres hasta que usted quiera y luego operaremos con los nombres que hayas introducido\")\n",
    "lista_nombres=[]\n",
    "x=1\n",
    "print(\"Cuando no quieras escribir mas nombres ponga-> 0\")\n",
    "for i in range(0,x):\n",
    "    intro_nombre= str(input())\n",
    "    if(intro_nombre!=\"0\"):\n",
    "        lista_nombres.append(intro_nombre)\n",
    "        x+=1\n",
    "    else:\n",
    "        print(\"Acabaste de rellenar ahora operaremos\")\n",
    "        print(lista_nombres)\n",
    "        ##print(\"Hay\",lista_nombres.count(i))\n",
    "        x=0\n"
   ]
  }
 ],
 "metadata": {
  "interpreter": {
   "hash": "5322818cae43cf6468214953b049884cb6ca7e8071f01fca2a6d6ce521d192bd"
  },
  "kernelspec": {
   "display_name": "Python 3.10.1 64-bit",
   "language": "python",
   "name": "python3"
  },
  "language_info": {
   "codemirror_mode": {
    "name": "ipython",
    "version": 3
   },
   "file_extension": ".py",
   "mimetype": "text/x-python",
   "name": "python",
   "nbconvert_exporter": "python",
   "pygments_lexer": "ipython3",
   "version": "3.10.1"
  },
  "orig_nbformat": 4
 },
 "nbformat": 4,
 "nbformat_minor": 2
}
