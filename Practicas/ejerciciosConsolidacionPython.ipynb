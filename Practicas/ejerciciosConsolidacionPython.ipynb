{
 "cells": [
  {
   "cell_type": "markdown",
   "metadata": {},
   "source": [
    "# Ejercicios Practica Python Daniel Castellote"
   ]
  },
  {
   "cell_type": "markdown",
   "metadata": {},
   "source": [
    "## 1º Primeros programas:</br>\n",
    "### Ejercicio 1:"
   ]
  },
  {
   "cell_type": "code",
   "execution_count": 1,
   "metadata": {},
   "outputs": [
    {
     "name": "stdout",
     "output_type": "stream",
     "text": [
      "¿Cual es tu nombre?\n",
      "Hola w Bienvenido al curso de SGE 21/22\n"
     ]
    }
   ],
   "source": [
    "print(\"¿Cual es tu nombre?\")\n",
    "nombre=input()\n",
    "print(\"Hola \"+nombre+\" Bienvenido al curso de SGE 21/22\")"
   ]
  },
  {
   "cell_type": "markdown",
   "metadata": {},
   "source": [
    "### Ejercicio 2: Ejercicio de talla del zapato y edad</br>\n",
    "Realiza de cabeza las siguientes operaciones:</br>\n",
    "-Pensar, escribir o apuntar su talla de zapato.</br>\n",
    "-Multiplicar ese número por 5.</br>\n",
    "-Sumarle 50.</br>\n",
    "-Multiplicarlo por 20.</br>\n",
    "-Sumarle 1021.</br>\n",
    "-Restarle el año de nacimiento.\n"
   ]
  },
  {
   "cell_type": "code",
   "execution_count": 3,
   "metadata": {},
   "outputs": [
    {
     "name": "stdout",
     "output_type": "stream",
     "text": [
      "¿Cual fue tu resultado matematico?\n",
      "La talla de tu zapato es: 44\n",
      "Tu edad actual es: 19\n"
     ]
    }
   ],
   "source": [
    "print(\"¿Cual fue tu resultado matematico?\")\n",
    "resultado=input()\n",
    "talla=resultado[0:2]\n",
    "edad=resultado[2:4]\n",
    "print(\"La talla de tu zapato es: \"+talla)\n",
    "print(\"Tu edad actual es: \"+edad)\n"
   ]
  },
  {
   "cell_type": "markdown",
   "metadata": {},
   "source": [
    "## 2º Control de flujo:</br>\n",
    "### Ejercicio 1:</br>\n",
    "Ejercicio triangulos"
   ]
  },
  {
   "cell_type": "code",
   "execution_count": 34,
   "metadata": {},
   "outputs": [
    {
     "name": "stdout",
     "output_type": "stream",
     "text": [
      "TRIANGULO RECTANGULO:\n",
      "Indica un numero para la altura del triangulo rectangulo: \n",
      "*\n",
      "***\n",
      "*****\n",
      "*******\n",
      "*********\n",
      "TRIANGULO ISOSCELES:\n",
      "Indica un numero para la altura del triangulo isosceles: \n",
      "       \n",
      "      * \n",
      "     * * \n",
      "    * * * \n",
      "   * * * * \n",
      "  * * * * * \n",
      " * * * * * * \n",
      "* * * * * * * \n"
     ]
    }
   ],
   "source": [
    "print(\"TRIANGULO RECTANGULO:\")\n",
    "asterisco=\"*\"\n",
    "x=1\n",
    "print(\"Indica un numero para la altura del triangulo rectangulo: \")\n",
    "altura1=int(input()) \n",
    "\n",
    "for i in range(0,altura1):\n",
    "    print(asterisco*x)\n",
    "    x+=2\n",
    "\n",
    "print(\"TRIANGULO ISOSCELES:\")\n",
    "\n",
    "print(\"Indica un numero para la altura del triangulo isosceles: \")\n",
    "altura2= int(input())\n",
    "for i in range(altura2+1):\n",
    "    hueco=altura2-i\n",
    "    print(\" \"*hueco+\"* \"*i)\n",
    "\n"
   ]
  },
  {
   "cell_type": "markdown",
   "metadata": {},
   "source": [
    "### Ejercicio 2: </br>\n",
    "Adivinar numero "
   ]
  },
  {
   "cell_type": "code",
   "execution_count": 4,
   "metadata": {},
   "outputs": [
    {
     "name": "stdout",
     "output_type": "stream",
     "text": [
      "Piense un numero del 1 al 100\n",
      "Conteste con 1 si respondes si y conteste con 0 si responde con no\n",
      "¿Tu numero es mayor que: 62?\n"
     ]
    },
    {
     "ename": "ValueError",
     "evalue": "invalid literal for int() with base 10: ''",
     "output_type": "error",
     "traceback": [
      "\u001b[1;31m---------------------------------------------------------------------------\u001b[0m",
      "\u001b[1;31mValueError\u001b[0m                                Traceback (most recent call last)",
      "Input \u001b[1;32mIn [4]\u001b[0m, in \u001b[0;36m<module>\u001b[1;34m\u001b[0m\n\u001b[0;32m      6\u001b[0m \u001b[38;5;28mprint\u001b[39m(\u001b[38;5;124m\"\u001b[39m\u001b[38;5;124mConteste con 1 si respondes si y conteste con 0 si responde con no\u001b[39m\u001b[38;5;124m\"\u001b[39m)\n\u001b[0;32m      7\u001b[0m \u001b[38;5;28mprint\u001b[39m(\u001b[38;5;124m\"\u001b[39m\u001b[38;5;124m¿Tu numero es mayor que: \u001b[39m\u001b[38;5;124m\"\u001b[39m\u001b[38;5;241m+\u001b[39m\u001b[38;5;28mstr\u001b[39m(n_inicial)\u001b[38;5;241m+\u001b[39m\u001b[38;5;124m\"\u001b[39m\u001b[38;5;124m?\u001b[39m\u001b[38;5;124m\"\u001b[39m)\n\u001b[1;32m----> 8\u001b[0m respuesta\u001b[38;5;241m=\u001b[39m \u001b[38;5;28;43mint\u001b[39;49m\u001b[43m(\u001b[49m\u001b[38;5;28;43minput\u001b[39;49m\u001b[43m(\u001b[49m\u001b[43m)\u001b[49m\u001b[43m)\u001b[49m\n\u001b[0;32m      9\u001b[0m \u001b[38;5;28;01mif\u001b[39;00m respuesta \u001b[38;5;241m==\u001b[39m \u001b[38;5;241m1\u001b[39m :\n\u001b[0;32m     10\u001b[0m     \u001b[38;5;28mprint\u001b[39m(\u001b[38;5;124m\"\u001b[39m\u001b[38;5;124mTu numero esta entre \u001b[39m\u001b[38;5;124m\"\u001b[39m\u001b[38;5;241m+\u001b[39m \u001b[38;5;28mstr\u001b[39m(\u001b[38;5;28mrange\u001b[39m(n_inicial,\u001b[38;5;241m100\u001b[39m)))\n",
      "\u001b[1;31mValueError\u001b[0m: invalid literal for int() with base 10: ''"
     ]
    }
   ],
   "source": [
    "import random\n",
    "print(\"Piense un numero del 1 al 100\")\n",
    "lista_numeros= list(range(100))\n",
    "\n",
    "n_inicial= random.randint(1,100)\n",
    "print(\"Conteste con 1 si respondes si y conteste con 0 si responde con no\")\n",
    "print(\"¿Tu numero es mayor que: \"+str(n_inicial)+\"?\")\n",
    "respuesta= int(input())\n",
    "if respuesta == 1 :\n",
    "    print(\"Tu numero esta entre \"+ str(range(n_inicial,100)))\n",
    "    print(\"¿Tu numero es menor que 75?\")\n",
    "    respuesta1=int(input())\n",
    "    if respuesta1 == 1:\n",
    "        print(\"Tu numero esta entre \"+ str(range(n_inicial,75)))\n",
    "    if respuesta1 == 0:\n",
    "        print(\"Tu numero esta entre \"+str(range(n_inicial,100)))\n",
    "    else :\n",
    "        print(\"Contesta bien\")\n",
    "if respuesta == 0 :\n",
    "    print(\"Tu numero es menor de: \" + str(range(0,n_inicial)))\n",
    "else :\n",
    "    print(\"Contesta bien con las opciones indicadas\")\n",
    "    "
   ]
  },
  {
   "cell_type": "markdown",
   "metadata": {},
   "source": [
    "### Ejercicio 3 </br>\n",
    "Imprimir multiplos de 7"
   ]
  },
  {
   "cell_type": "code",
   "execution_count": 9,
   "metadata": {},
   "outputs": [
    {
     "name": "stdout",
     "output_type": "stream",
     "text": [
      "7\n",
      "14\n",
      "21\n",
      "28\n",
      "35\n",
      "42\n",
      "49\n",
      "56\n",
      "63\n",
      "70\n",
      "77\n",
      "84\n",
      "91\n",
      "98\n"
     ]
    }
   ],
   "source": [
    "x=1\n",
    "for x in range(7,100,7):\n",
    "        print(x)"
   ]
  },
  {
   "cell_type": "markdown",
   "metadata": {},
   "source": [
    "## 3º Trabajo con cadenas de caracteres\n",
    "### Ejercicio 1\n",
    "Solicitar una oración por teclado y realizar las siguientes operaciones sobre ella:"
   ]
  },
  {
   "cell_type": "code",
   "execution_count": 29,
   "metadata": {},
   "outputs": [
    {
     "name": "stdout",
     "output_type": "stream",
     "text": [
      "Introduce una frase y operaremos sobre ella:\n",
      "La longitud de tu frase es:  15\n",
      "Ingresaste 2 espacios en blanco\n",
      "Tu frase en mayusculas es: HOLA MUY BUENAS\n",
      "Duplicaremos la cadena que has mandado: hola muy buenashola muy buenas\n",
      "Dividiremos y numeraremos por palabras la oracion que has mandado:\n",
      "Palabra 1 : hola\n",
      "Palabra 2 : muy\n",
      "Palabra 3 : buenas\n"
     ]
    }
   ],
   "source": [
    "print(\"Introduce una frase y operaremos sobre ella:\")\n",
    "oracion=str(input())\n",
    "\n",
    "print(\"La longitud de tu frase es: \", len(oracion))\n",
    "print(\"Ingresaste\",oracion.count(\" \") ,\"espacios en blanco\")\n",
    "print(\"Tu frase en mayusculas es:\", oracion.upper())\n",
    "print(\"Duplicaremos la cadena que has mandado:\", oracion*2)\n",
    "print(\"Dividiremos y numeraremos por palabras la oracion que has mandado:\")\n",
    "contador=1\n",
    "for i in oracion.split(\" \"):\n",
    "    print(\"Palabra\",contador,\":\",i)\n",
    "    contador+=1"
   ]
  },
  {
   "cell_type": "markdown",
   "metadata": {},
   "source": [
    "## 4º Colecciones\n",
    "### Ejercicio 1\n",
    "Definir una lista por asignación con 5 enteros. Mostrar por pantalla solo los elementos con valor iguales o superiores a 7."
   ]
  },
  {
   "cell_type": "code",
   "execution_count": 39,
   "metadata": {},
   "outputs": [
    {
     "name": "stdout",
     "output_type": "stream",
     "text": [
      "Dime 5 numeros para la lista:\n",
      "Tu lista es: [7, 8, 5, 4, 9]\n",
      "Solo te imprimiremos los numeros mayores o iguales que 7:\n",
      "7\n",
      "8\n",
      "9\n"
     ]
    }
   ],
   "source": [
    "print(\"Dime 5 numeros para la lista:\")\n",
    "\n",
    "lista_cinco=[]\n",
    "for i in range(0,5):\n",
    "    numero=int(input())\n",
    "    lista_cinco.append(numero)\n",
    "\n",
    "print(\"Tu lista es:\",lista_cinco)\n",
    "\n",
    "print(\"Solo te imprimiremos los numeros mayores o iguales que 7:\")\n",
    "for x in lista_cinco:\n",
    "    if(x>=7):\n",
    "        print(x)\n"
   ]
  },
  {
   "cell_type": "markdown",
   "metadata": {},
   "source": [
    "### Ejericio 2\n",
    "Crear un programa que almacene nombres de personas"
   ]
  },
  {
   "cell_type": "code",
   "execution_count": 32,
   "metadata": {},
   "outputs": [
    {
     "name": "stdout",
     "output_type": "stream",
     "text": [
      "Hola te preguntaremos nombres hasta que usted quiera y luego operaremos con los nombres que hayas introducido\n",
      "Cuando no quieras escribir mas nombres ponga-> 0\n",
      "['Eva']\n",
      "['Eva', 'Dani']\n",
      "['Eva', 'Dani', 'Juan']\n",
      "['Eva', 'Dani', 'Juan', 'Fernando']\n",
      "Acabaste de rellenar ahora operaremos\n",
      "['Eva', 'Dani', 'Juan', 'Fernando']\n",
      "De los nombres de la lista estos son los nombres con 5 o mas caracteres\n",
      "Fernando\n"
     ]
    },
    {
     "ename": "KeyboardInterrupt",
     "evalue": "Interrupted by user",
     "output_type": "error",
     "traceback": [
      "\u001b[1;31m---------------------------------------------------------------------------\u001b[0m",
      "\u001b[1;31mKeyboardInterrupt\u001b[0m                         Traceback (most recent call last)",
      "\u001b[1;32mc:\\Users\\danie\\OneDrive\\Escritorio\\Luis Vives\\2ºDAM\\SGE\\Python\\RepoPython\\EjerciciosBasicosPython\\Practicas\\ejerciciosConsolidacionPython.ipynb Cell 17'\u001b[0m in \u001b[0;36m<module>\u001b[1;34m\u001b[0m\n\u001b[0;32m      <a href='vscode-notebook-cell:/c%3A/Users/danie/OneDrive/Escritorio/Luis%20Vives/2%C2%BADAM/SGE/Python/RepoPython/EjerciciosBasicosPython/Practicas/ejerciciosConsolidacionPython.ipynb#ch0000016?line=3'>4</a>\u001b[0m \u001b[39mprint\u001b[39m(\u001b[39m\"\u001b[39m\u001b[39mCuando no quieras escribir mas nombres ponga-> 0\u001b[39m\u001b[39m\"\u001b[39m)\n\u001b[0;32m      <a href='vscode-notebook-cell:/c%3A/Users/danie/OneDrive/Escritorio/Luis%20Vives/2%C2%BADAM/SGE/Python/RepoPython/EjerciciosBasicosPython/Practicas/ejerciciosConsolidacionPython.ipynb#ch0000016?line=4'>5</a>\u001b[0m \u001b[39mfor\u001b[39;00m i \u001b[39min\u001b[39;00m \u001b[39mrange\u001b[39m(\u001b[39m0\u001b[39m,x):\n\u001b[1;32m----> <a href='vscode-notebook-cell:/c%3A/Users/danie/OneDrive/Escritorio/Luis%20Vives/2%C2%BADAM/SGE/Python/RepoPython/EjerciciosBasicosPython/Practicas/ejerciciosConsolidacionPython.ipynb#ch0000016?line=5'>6</a>\u001b[0m     intro_nombre\u001b[39m=\u001b[39m \u001b[39mstr\u001b[39m(\u001b[39minput\u001b[39;49m())\n\u001b[0;32m      <a href='vscode-notebook-cell:/c%3A/Users/danie/OneDrive/Escritorio/Luis%20Vives/2%C2%BADAM/SGE/Python/RepoPython/EjerciciosBasicosPython/Practicas/ejerciciosConsolidacionPython.ipynb#ch0000016?line=6'>7</a>\u001b[0m     \u001b[39mif\u001b[39;00m(intro_nombre\u001b[39m!=\u001b[39m\u001b[39m\"\u001b[39m\u001b[39m0\u001b[39m\u001b[39m\"\u001b[39m):\n\u001b[0;32m      <a href='vscode-notebook-cell:/c%3A/Users/danie/OneDrive/Escritorio/Luis%20Vives/2%C2%BADAM/SGE/Python/RepoPython/EjerciciosBasicosPython/Practicas/ejerciciosConsolidacionPython.ipynb#ch0000016?line=7'>8</a>\u001b[0m         lista_nombres\u001b[39m.\u001b[39mappend(intro_nombre)\n",
      "File \u001b[1;32m~\\AppData\\Local\\Programs\\Python\\Python310\\lib\\site-packages\\ipykernel\\kernelbase.py:1044\u001b[0m, in \u001b[0;36mKernel.raw_input\u001b[1;34m(self, prompt)\u001b[0m\n\u001b[0;32m   <a href='file:///~/AppData/Local/Programs/Python/Python310/lib/site-packages/ipykernel/kernelbase.py?line=1039'>1040</a>\u001b[0m \u001b[39mif\u001b[39;00m \u001b[39mnot\u001b[39;00m \u001b[39mself\u001b[39m\u001b[39m.\u001b[39m_allow_stdin:\n\u001b[0;32m   <a href='file:///~/AppData/Local/Programs/Python/Python310/lib/site-packages/ipykernel/kernelbase.py?line=1040'>1041</a>\u001b[0m     \u001b[39mraise\u001b[39;00m StdinNotImplementedError(\n\u001b[0;32m   <a href='file:///~/AppData/Local/Programs/Python/Python310/lib/site-packages/ipykernel/kernelbase.py?line=1041'>1042</a>\u001b[0m         \u001b[39m\"\u001b[39m\u001b[39mraw_input was called, but this frontend does not support input requests.\u001b[39m\u001b[39m\"\u001b[39m\n\u001b[0;32m   <a href='file:///~/AppData/Local/Programs/Python/Python310/lib/site-packages/ipykernel/kernelbase.py?line=1042'>1043</a>\u001b[0m     )\n\u001b[1;32m-> <a href='file:///~/AppData/Local/Programs/Python/Python310/lib/site-packages/ipykernel/kernelbase.py?line=1043'>1044</a>\u001b[0m \u001b[39mreturn\u001b[39;00m \u001b[39mself\u001b[39;49m\u001b[39m.\u001b[39;49m_input_request(\n\u001b[0;32m   <a href='file:///~/AppData/Local/Programs/Python/Python310/lib/site-packages/ipykernel/kernelbase.py?line=1044'>1045</a>\u001b[0m     \u001b[39mstr\u001b[39;49m(prompt),\n\u001b[0;32m   <a href='file:///~/AppData/Local/Programs/Python/Python310/lib/site-packages/ipykernel/kernelbase.py?line=1045'>1046</a>\u001b[0m     \u001b[39mself\u001b[39;49m\u001b[39m.\u001b[39;49m_parent_ident[\u001b[39m\"\u001b[39;49m\u001b[39mshell\u001b[39;49m\u001b[39m\"\u001b[39;49m],\n\u001b[0;32m   <a href='file:///~/AppData/Local/Programs/Python/Python310/lib/site-packages/ipykernel/kernelbase.py?line=1046'>1047</a>\u001b[0m     \u001b[39mself\u001b[39;49m\u001b[39m.\u001b[39;49mget_parent(\u001b[39m\"\u001b[39;49m\u001b[39mshell\u001b[39;49m\u001b[39m\"\u001b[39;49m),\n\u001b[0;32m   <a href='file:///~/AppData/Local/Programs/Python/Python310/lib/site-packages/ipykernel/kernelbase.py?line=1047'>1048</a>\u001b[0m     password\u001b[39m=\u001b[39;49m\u001b[39mFalse\u001b[39;49;00m,\n\u001b[0;32m   <a href='file:///~/AppData/Local/Programs/Python/Python310/lib/site-packages/ipykernel/kernelbase.py?line=1048'>1049</a>\u001b[0m )\n",
      "File \u001b[1;32m~\\AppData\\Local\\Programs\\Python\\Python310\\lib\\site-packages\\ipykernel\\kernelbase.py:1089\u001b[0m, in \u001b[0;36mKernel._input_request\u001b[1;34m(self, prompt, ident, parent, password)\u001b[0m\n\u001b[0;32m   <a href='file:///~/AppData/Local/Programs/Python/Python310/lib/site-packages/ipykernel/kernelbase.py?line=1085'>1086</a>\u001b[0m             \u001b[39mbreak\u001b[39;00m\n\u001b[0;32m   <a href='file:///~/AppData/Local/Programs/Python/Python310/lib/site-packages/ipykernel/kernelbase.py?line=1086'>1087</a>\u001b[0m \u001b[39mexcept\u001b[39;00m \u001b[39mKeyboardInterrupt\u001b[39;00m:\n\u001b[0;32m   <a href='file:///~/AppData/Local/Programs/Python/Python310/lib/site-packages/ipykernel/kernelbase.py?line=1087'>1088</a>\u001b[0m     \u001b[39m# re-raise KeyboardInterrupt, to truncate traceback\u001b[39;00m\n\u001b[1;32m-> <a href='file:///~/AppData/Local/Programs/Python/Python310/lib/site-packages/ipykernel/kernelbase.py?line=1088'>1089</a>\u001b[0m     \u001b[39mraise\u001b[39;00m \u001b[39mKeyboardInterrupt\u001b[39;00m(\u001b[39m\"\u001b[39m\u001b[39mInterrupted by user\u001b[39m\u001b[39m\"\u001b[39m) \u001b[39mfrom\u001b[39;00m \u001b[39mNone\u001b[39m\n\u001b[0;32m   <a href='file:///~/AppData/Local/Programs/Python/Python310/lib/site-packages/ipykernel/kernelbase.py?line=1089'>1090</a>\u001b[0m \u001b[39mexcept\u001b[39;00m \u001b[39mException\u001b[39;00m:\n\u001b[0;32m   <a href='file:///~/AppData/Local/Programs/Python/Python310/lib/site-packages/ipykernel/kernelbase.py?line=1090'>1091</a>\u001b[0m     \u001b[39mself\u001b[39m\u001b[39m.\u001b[39mlog\u001b[39m.\u001b[39mwarning(\u001b[39m\"\u001b[39m\u001b[39mInvalid Message:\u001b[39m\u001b[39m\"\u001b[39m, exc_info\u001b[39m=\u001b[39m\u001b[39mTrue\u001b[39;00m)\n",
      "\u001b[1;31mKeyboardInterrupt\u001b[0m: Interrupted by user"
     ]
    }
   ],
   "source": [
    "print(\"Hola te preguntaremos nombres hasta que usted quiera y luego operaremos con los nombres que hayas introducido\")\n",
    "lista_nombres=[]\n",
    "x+=1\n",
    "print(\"Cuando no quieras escribir mas nombres ponga-> 0\")\n",
    "for i in range(0,x):\n",
    "    intro_nombre= str(input())\n",
    "    if(intro_nombre!=\"0\"):\n",
    "        lista_nombres.append(intro_nombre)\n",
    "        print(lista_nombres)\n",
    "    else:\n",
    "        print(\"Acabaste de rellenar ahora operaremos\")\n",
    "        print(lista_nombres)\n",
    "        print(\"De los nombres de la lista estos son los nombres con 5 o mas caracteres\")\n",
    "        for nombres in lista_nombres:\n",
    "            if(nombres!=nombres[0:4]):\n",
    "                print(nombres)\n",
    "                x=0\n",
    "    \n",
    "    x=x+1\n",
    "                \n",
    "       \n",
    "        \n",
    "\n",
    "    \n",
    "    \n"
   ]
  },
  {
   "cell_type": "markdown",
   "metadata": {},
   "source": [
    "### Ejercicio 3\n",
    "Crear un programa que almacene con dos opciones:\n",
    " 1. Agregar personas:\n",
    " 2. Sorteo: \n",
    " 3. Salir:"
   ]
  },
  {
   "cell_type": "code",
   "execution_count": 11,
   "metadata": {},
   "outputs": [
    {
     "name": "stdout",
     "output_type": "stream",
     "text": [
      "Hola vas a rellenar una lista de manera interactiva o al azar\n",
      "Seleccione una opción\n",
      "    1º Agregar interactivo\n",
      "    2º Sorteo\n",
      "Añada un nombre\n",
      "['Dani']\n",
      "Nombre añadido de la lista por sorteo\n",
      "['Dani', 'Angel']\n",
      "Nombre añadido de la lista por sorteo\n",
      "['Dani', 'Angel', 'Lucia']\n",
      "Nombre añadido de la lista por sorteo\n",
      "['Dani', 'Angel', 'Lucia', 'Mario']\n",
      "Añada un nombre\n",
      "['Dani', 'Angel', 'Lucia', 'Mario', 'Raul']\n"
     ]
    }
   ],
   "source": [
    "import random\n",
    "print(\"Hola vas a rellenar una lista de manera interactiva o al azar\")\n",
    "lista_personas=[]\n",
    "print(\"\"\"Seleccione una opción\n",
    "    1º Agregar interactivo\n",
    "    2º Sorteo\"\"\")\n",
    "\n",
    "for x in range(0,5):\n",
    "    eleccion=int(input())\n",
    "    if(eleccion==1):\n",
    "        print(\"Añada un nombre\")\n",
    "        interactivo=str(input())\n",
    "        lista_personas.append(interactivo)\n",
    "        print(lista_personas)\n",
    "    if(eleccion==2):\n",
    "        print(\"Nombre añadido de la lista por sorteo\")\n",
    "        lista_random=[\"Juan\",\"Lucia\",\"Pablo\",\"Angel\",\"Mario\"]\n",
    "        sorteo = random.randint(0,4)\n",
    "        lista_personas.append(lista_random[sorteo])\n",
    "        print(lista_personas)\n",
    "\n",
    "        \n",
    "\n"
   ]
  },
  {
   "cell_type": "markdown",
   "metadata": {},
   "source": [
    "### Ejercicio 4\n",
    "Crear un programa “Diccionario”"
   ]
  },
  {
   "cell_type": "code",
   "execution_count": 46,
   "metadata": {},
   "outputs": [
    {
     "name": "stdout",
     "output_type": "stream",
     "text": [
      "Diccionario en ingles, podras consultar, añadir palabras y su definicion o eliminar palabras\n",
      "Elige una opcion : \n",
      "1º Consultar\n",
      "2º Agregar palabra\n",
      "3º Eliminar palabra\n",
      "{'hola': 'hello', 'pan': 'bread', 'mesa': 'table'}\n",
      "{'hola': 'hello', 'pan': 'bread', 'mesa': 'table'}\n",
      "{'hola': 'hello', 'pan': 'bread'}\n"
     ]
    }
   ],
   "source": [
    "print(\"Diccionario en ingles, podras consultar, añadir palabras y su definicion o eliminar palabras\")\n",
    "diccionario = {\"hola\":\"hello\", \"pan\":\"bread\", \"mesa\":\"table\"}\n",
    "print(\"\"\"Elige una opcion : \n",
    "1º Consultar\n",
    "2º Agregar palabra\n",
    "3º Eliminar palabra\"\"\")\n",
    "\n",
    "for palabra in diccionario:\n",
    "    elegir=int(input())\n",
    "\n",
    "    if(elegir==1) :\n",
    "        print(diccionario)\n",
    "\n",
    "    if(elegir==2) :\n",
    "        print(\"Indique la palabra en español\")\n",
    "        claves=input()\n",
    "        print(\"Indique su significado\")\n",
    "        valor=input()\n",
    "        diccionario.update(claves=valor)\n",
    "        print(diccionario)\n",
    "\n",
    "    if(elegir==3):\n",
    "        diccionario.popitem()\n",
    "        print(diccionario)\n",
    "        \n",
    "    \n",
    "\n",
    "\n"
   ]
  },
  {
   "cell_type": "markdown",
   "metadata": {},
   "source": [
    "### Ejercicio 5\n",
    "Crear una nueva lista con los nombres ordenados alfabéticamente"
   ]
  },
  {
   "cell_type": "code",
   "execution_count": 6,
   "metadata": {},
   "outputs": [
    {
     "name": "stdout",
     "output_type": "stream",
     "text": [
      "Indicanos 5 nombres para la lista y la ordenaremos alfabeticamente\n",
      "['alex']\n",
      "['alex', 'dani']\n",
      "['alex', 'dani', 'javi']\n",
      "['alex', 'carlos', 'dani', 'javi']\n",
      "['alex', 'carlos', 'dani', 'javi', 'juan']\n"
     ]
    }
   ],
   "source": [
    "print(\"Indicanos 5 nombres para la lista y la ordenaremos alfabeticamente\")\n",
    "lista_alfabetica=[]\n",
    "\n",
    "for i in range(0,5):\n",
    "    nombre= str(input())\n",
    "    lista_alfabetica.append(nombre)\n",
    "\n",
    "    lista_alfabetica.sort()\n",
    "\n",
    "    print(lista_alfabetica)"
   ]
  },
  {
   "cell_type": "markdown",
   "metadata": {},
   "source": [
    "### Ejercicio 6\n",
    "Imprimir la lista, asignar valor cero a todos los elementos mayores a 50"
   ]
  },
  {
   "cell_type": "code",
   "execution_count": 48,
   "metadata": {},
   "outputs": [
    {
     "name": "stdout",
     "output_type": "stream",
     "text": [
      " \n",
      "[[50, 34, 70, 20], [5, 70, 30, 25], [10, 5], [75, 43, 56, 32, 89], [54, 72]]\n",
      "Lista final:\n",
      "[[0, 34, 0, 20], [5, 0, 30, 25], [10, 5], [0, 43, 0, 32, 0], [0, 0]]\n"
     ]
    }
   ],
   "source": [
    "print(\" \")\n",
    "lista_contenida=[[50,34,70,20], [5,70,30,25], [10,5], [75,43,56,32,89], [54,72]]\n",
    "print(lista_contenida)\n",
    "for sublista in lista_contenida:\n",
    "    for contenido in sublista:\n",
    "        if contenido>=50:\n",
    "            sublista[sublista.index(contenido)]=0\n",
    "\n",
    "print(\"Lista final:\")\n",
    "print(lista_contenida)\n",
    "\n",
    "            \n",
    "            \n",
    "    "
   ]
  },
  {
   "cell_type": "markdown",
   "metadata": {},
   "source": [
    "## 5º Funciones\n",
    "### Ejercicio 1\n",
    "Confeccionar un programa que calcule el factorial de un número introducido por teclado"
   ]
  },
  {
   "cell_type": "code",
   "execution_count": 49,
   "metadata": {},
   "outputs": [
    {
     "name": "stdout",
     "output_type": "stream",
     "text": [
      "Introduce un numero y calcularemos su factorial\n"
     ]
    },
    {
     "data": {
      "text/plain": [
       "6"
      ]
     },
     "execution_count": 49,
     "metadata": {},
     "output_type": "execute_result"
    }
   ],
   "source": [
    "from math import factorial\n",
    "print(\"Introduce un numero y calcularemos su factorial\")\n",
    "\n",
    "n_factorial= int(input())\n",
    "\n",
    "def funcion_factorial(a):\n",
    "    return factorial(a)\n",
    "\n",
    "funcion_factorial(n_factorial)"
   ]
  },
  {
   "cell_type": "markdown",
   "metadata": {},
   "source": [
    "### Ejercicio 2\n",
    "Función que tome una palabra y retorne con todas las letras en minúscula "
   ]
  },
  {
   "cell_type": "code",
   "execution_count": 50,
   "metadata": {},
   "outputs": [
    {
     "name": "stdout",
     "output_type": "stream",
     "text": [
      " \n",
      "PizarrA\n"
     ]
    }
   ],
   "source": [
    "print(\" \")\n",
    "palabra=\"pizarra\"\n",
    "def funcion_minusculas(cadena):\n",
    "    cadena=str(cadena)\n",
    "    \n",
    "    print(cadena[0].upper()+cadena[1:-1].lower()+cadena[-1].upper())\n",
    "\n",
    "    \n",
    "\n",
    "funcion_minusculas(palabra)\n"
   ]
  },
  {
   "cell_type": "markdown",
   "metadata": {},
   "source": [
    "### Ejercicio 3\n",
    "Reescribe el ejercicio 3 del apartado “Colecciones” utilizando una función para presentar el menú y recibir la opción seleccionada."
   ]
  },
  {
   "cell_type": "code",
   "execution_count": 8,
   "metadata": {},
   "outputs": [
    {
     "name": "stdout",
     "output_type": "stream",
     "text": [
      " \n",
      "Indique una opcion para el menu con el numero asignado a cada opcion\n",
      "    1º Agregar interactivo\n",
      "    2º Sorteo \n",
      "    \n",
      "['Julian', 'Carla', 'Guille', 'Pablo']\n"
     ]
    }
   ],
   "source": [
    "print(\" \")\n",
    "import random\n",
    "lista_nombres_funcion=[\"Julian\",\"Carla\",\"Guille\"]\n",
    "def funcion_menu(respuesta):\n",
    "    if(respuesta==1):\n",
    "        nombre_metido=str(input())\n",
    "        lista_nombres_funcion.append(nombre_metido)\n",
    "        print(lista_nombres_funcion)\n",
    "    if(respuesta==2):\n",
    "        nombres_sorteo=[\"Pablo\",\"Jaime\",\"Sara\",\"Fernando\",\"Clara\"]\n",
    "        sorteo = random.randint(0,4)\n",
    "        lista_nombres_funcion.append(nombres_sorteo[sorteo])\n",
    "        print(lista_nombres_funcion)\n",
    "\n",
    "\n",
    "\n",
    "print(\"\"\"Indique una opcion para el menu con el numero asignado a cada opcion\n",
    "    1º Agregar interactivo\n",
    "    2º Sorteo \n",
    "    \"\"\")\n",
    "contestacion= int(input())\n",
    "funcion_menu(contestacion)\n",
    "\n",
    "        \n",
    "    "
   ]
  },
  {
   "cell_type": "markdown",
   "metadata": {},
   "source": [
    "## Objetos\n",
    "### Ejercicio 1\n",
    "Crea una clase “Saludo” que tenga los métodos: formal, informal y aleatorio."
   ]
  },
  {
   "cell_type": "code",
   "execution_count": 52,
   "metadata": {},
   "outputs": [
    {
     "name": "stdout",
     "output_type": "stream",
     "text": [
      "Saludos\n",
      "Hola encantado de conocerte\n",
      "Hola muy buenas que tal\n",
      "Hola q tal\n"
     ]
    }
   ],
   "source": [
    "class Saludo:\n",
    "    \n",
    "    \n",
    "    def saludo_formal(self):\n",
    "        print(\"Hola encantado de conocerte\")\n",
    "\n",
    "    def saludo_informal(self):\n",
    "        print(\"Hola muy buenas que tal\")\n",
    "    \n",
    "    def saludo_aleatorio(self):\n",
    "        import random\n",
    "        saludos_aleatorios=[\"Ey muy buenas\", \"Hello\", \"Hola q tal\", \"Hi my friend\"]\n",
    "        saludo=random.randint(0,3)\n",
    "        print(saludos_aleatorios[saludo])\n",
    "\n",
    "\n",
    "class Main:\n",
    "    saludos= Saludo()\n",
    "    print(\"Saludos:\")\n",
    "    saludos.saludo_formal()\n",
    "    saludos.saludo_informal()\n",
    "    saludos.saludo_aleatorio()\n",
    "\n",
    "\n",
    "\n"
   ]
  },
  {
   "cell_type": "markdown",
   "metadata": {},
   "source": [
    "### Ejercicio 2\n",
    "Reescribe el ejercicio 3 del apartado “Colecciones” con orientación a objetos"
   ]
  },
  {
   "cell_type": "code",
   "execution_count": 54,
   "metadata": {},
   "outputs": [
    {
     "name": "stdout",
     "output_type": "stream",
     "text": [
      "Indique una opcion para el menu con el numero asignado a cada opcion\n",
      "        1º Agregar interactivo\n",
      "        2º Sorteo \n",
      "Indique el nombre a introducir:\n",
      "['Laura', 'Carmen', 'Pedro', 'Ramon']\n"
     ]
    }
   ],
   "source": [
    "class Colecciones:\n",
    "\n",
    "    def menu(self,opcion):\n",
    "        nombres=[\"Laura\",\"Carmen\",\"Pedro\"]\n",
    "        if(opcion==1):\n",
    "            print(\"Indique el nombre a introducir:\")\n",
    "            nombre_elegido= str(input())\n",
    "            nombres.append(nombre_elegido)\n",
    "            print(nombres)\n",
    "        if(opcion==2):\n",
    "            import random\n",
    "            nombres_sorteo=[\"Pablo\",\"Jaime\",\"Sara\",\"Fernando\",\"Clara\"]\n",
    "            sorteo = random.randint(0,4)\n",
    "            nombres.append(nombres_sorteo[sorteo])\n",
    "            print(nombres)\n",
    "        \n",
    "            ##print(\"No introduciste bien la opcion\")\n",
    "\n",
    "\n",
    "class Main:\n",
    "    sorteo=Colecciones()\n",
    "    print(\"\"\"Indique una opcion para el menu con el numero asignado a cada opcion\n",
    "        1º Agregar interactivo\n",
    "        2º Sorteo \"\"\")\n",
    "    opcion=int(input())\n",
    "\n",
    "    sorteo.menu(opcion)"
   ]
  }
 ],
 "metadata": {
  "interpreter": {
   "hash": "5322818cae43cf6468214953b049884cb6ca7e8071f01fca2a6d6ce521d192bd"
  },
  "kernelspec": {
   "display_name": "Python 3.10.1 64-bit",
   "language": "python",
   "name": "python3"
  },
  "language_info": {
   "codemirror_mode": {
    "name": "ipython",
    "version": 3
   },
   "file_extension": ".py",
   "mimetype": "text/x-python",
   "name": "python",
   "nbconvert_exporter": "python",
   "pygments_lexer": "ipython3",
   "version": "3.10.1"
  },
  "orig_nbformat": 4
 },
 "nbformat": 4,
 "nbformat_minor": 2
}
