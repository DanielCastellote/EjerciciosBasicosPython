{
 "cells": [
  {
   "cell_type": "markdown",
   "metadata": {},
   "source": [
    "# Ejercicios Practica Python Daniel Castellote"
   ]
  },
  {
   "cell_type": "markdown",
   "metadata": {},
   "source": [
    "## 1º Primeros programas:</br>\n",
    "### Ejercicio 1:"
   ]
  },
  {
   "cell_type": "code",
   "execution_count": 33,
   "metadata": {},
   "outputs": [
    {
     "name": "stdout",
     "output_type": "stream",
     "text": [
      "¿Cual es tu nombre?\n",
      "Hola 7 Bienvenido al curso de SGE 21/22\n"
     ]
    }
   ],
   "source": [
    "print(\"¿Cual es tu nombre?\")\n",
    "nombre=input()\n",
    "print(\"Hola \"+nombre+\" Bienvenido al curso de SGE 21/22\")"
   ]
  },
  {
   "cell_type": "markdown",
   "metadata": {},
   "source": [
    "### Ejercicio 2: Ejercicio de talla del zapato y edad</br>\n",
    "Realiza de cabeza las siguientes operaciones:</br>\n",
    "-Pensar, escribir o apuntar su talla de zapato.</br>\n",
    "-Multiplicar ese número por 5.</br>\n",
    "-Sumarle 50.</br>\n",
    "-Multiplicarlo por 20.</br>\n",
    "-Sumarle 1021.</br>\n",
    "-Restarle el año de nacimiento.\n"
   ]
  },
  {
   "cell_type": "code",
   "execution_count": 34,
   "metadata": {},
   "outputs": [
    {
     "name": "stdout",
     "output_type": "stream",
     "text": [
      "¿Cual fue tu resultado matematico?\n",
      "La talla de tu zapato es: 66\n",
      "Tu edad actual es: 66\n"
     ]
    }
   ],
   "source": [
    "print(\"¿Cual fue tu resultado matematico?\")\n",
    "resultado=input()\n",
    "talla=resultado[0:2]\n",
    "edad=resultado[2:4]\n",
    "print(\"La talla de tu zapato es: \"+talla)\n",
    "print(\"Tu edad actual es: \"+edad)\n"
   ]
  },
  {
   "cell_type": "markdown",
   "metadata": {},
   "source": [
    "## 2º Control de flujo:</br>\n",
    "### Ejercicio 1:</br>\n",
    "Ejercicio triangulos"
   ]
  },
  {
   "cell_type": "code",
   "execution_count": 46,
   "metadata": {},
   "outputs": [
    {
     "name": "stdout",
     "output_type": "stream",
     "text": [
      "TRIANGULO RECTANGULO:\n",
      "Indica un numero para la altura del triangulo rectangulo: \n",
      "*\n",
      "***\n",
      "*****\n",
      "TRIANGULO ISOSCELES:\n",
      "Indica un numero para la altura del triangulo isosceles: \n"
     ]
    }
   ],
   "source": [
    "print(\"TRIANGULO RECTANGULO:\")\n",
    "asterisco=\"*\"\n",
    "x=1\n",
    "print(\"Indica un numero para la altura del triangulo rectangulo: \")\n",
    "altura1=int(input()) \n",
    "\n",
    "for i in range(0,altura1):\n",
    "    print(asterisco*x)\n",
    "    x+=2\n",
    "\n",
    "print(\"TRIANGULO ISOSCELES:\")\n",
    "\n",
    "print(\"Indica un numero para la altura del triangulo isosceles: \")\n",
    "altura2= int(input())\n",
    "\n"
   ]
  },
  {
   "cell_type": "markdown",
   "metadata": {},
   "source": [
    "### Ejercicio 2: </br>\n",
    "Adivinar numero "
   ]
  },
  {
   "cell_type": "code",
   "execution_count": 56,
   "metadata": {},
   "outputs": [
    {
     "name": "stdout",
     "output_type": "stream",
     "text": [
      "Piense un numero del 1 al 100\n",
      "Conteste con 1 si respondes si y conteste con 0 si responde con no\n",
      "¿Tu numero es mayor que: 29?\n",
      "Tu numero esta entre range(29, 100)\n",
      "¿Tu numero es menor que 75?\n",
      "Tu numero esta entre range(29, 75)\n",
      "Contesta bien\n",
      "Contesta bien con las opciones indicadas\n"
     ]
    }
   ],
   "source": [
    "import random\n",
    "print(\"Piense un numero del 1 al 100\")\n",
    "lista_numeros= list(range(100))\n",
    "\n",
    "n_inicial= random.randint(1,100)\n",
    "print(\"Conteste con 1 si respondes si y conteste con 0 si responde con no\")\n",
    "print(\"¿Tu numero es mayor que: \"+str(n_inicial)+\"?\")\n",
    "respuesta= int(input())\n",
    "if respuesta == 1 :\n",
    "    print(\"Tu numero esta entre \"+ str(range(n_inicial,100)))\n",
    "    print(\"¿Tu numero es menor que 75?\")\n",
    "    respuesta1=int(input())\n",
    "    if respuesta1 == 1:\n",
    "        print(\"Tu numero esta entre \"+ str(range(n_inicial,75)))\n",
    "    if respuesta1 == 0:\n",
    "        print(\"Tu numero esta entre \"+str(range(n_inicial,100)))\n",
    "    else :\n",
    "        print(\"Contesta bien\")\n",
    "if respuesta == 0 :\n",
    "    print(\"Tu numero es menor de: \" + str(range(0,n_inicial)))\n",
    "else :\n",
    "    print(\"Contesta bien con las opciones indicadas\")\n",
    "    "
   ]
  }
 ],
 "metadata": {
  "interpreter": {
   "hash": "5322818cae43cf6468214953b049884cb6ca7e8071f01fca2a6d6ce521d192bd"
  },
  "kernelspec": {
   "display_name": "Python 3.10.1 64-bit",
   "language": "python",
   "name": "python3"
  },
  "language_info": {
   "codemirror_mode": {
    "name": "ipython",
    "version": 3
   },
   "file_extension": ".py",
   "mimetype": "text/x-python",
   "name": "python",
   "nbconvert_exporter": "python",
   "pygments_lexer": "ipython3",
   "version": "3.10.1"
  },
  "orig_nbformat": 4
 },
 "nbformat": 4,
 "nbformat_minor": 2
}
